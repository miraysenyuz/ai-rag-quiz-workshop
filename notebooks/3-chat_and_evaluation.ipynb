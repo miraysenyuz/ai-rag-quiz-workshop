{
 "cells": [
  {
   "cell_type": "markdown",
   "id": "55e824fd",
   "metadata": {},
   "source": [
    "\n",
    "# Building our AI Quiz and evaluating its performance\n",
    "\n",
    "Welcome to the last notebook of this workshop content we will walk you through how to build our chat web application.\n"
   ]
  },
  {
   "cell_type": "markdown",
   "id": "0f4fc601",
   "metadata": {},
   "source": [
    "Now lets jump to our application. The purpose of this part is to give you an overview of everything you need to do to get an chat-application working.\n",
    "\n",
    "The folder chat_solution contains the app. \n",
    "\n",
    "The most important files are:\n",
    "\n",
    "- create_db.py: This file contians the document / embedding logic\n",
    "- rag.py: the logic of how call the llm with documents\n",
    "- start_streamlit.py: where our program starts, contains the ui logic and the calls to the main components\n",
    "\n",
    "\n",
    "To use our chat we first need to make sure we have documents stored in the database. Lets do it now:"
   ]
  },
  {
   "cell_type": "code",
   "execution_count": null,
   "id": "c107c1db-f471-4ccc-8fad-e6fbe08d0eda",
   "metadata": {},
   "outputs": [],
   "source": [
    "from chat_solution.create_db import create_db\n",
    "\n",
    "db = create_db()\n",
    "print(db.retrieve(\"what is a llm?\"))"
   ]
  },
  {
   "cell_type": "markdown",
   "id": "088798a1",
   "metadata": {},
   "source": [
    "## Our RAG script\n",
    "\n",
    "The main part of this chat application is to create a rag call. The LearningAssistant in rag.py is where we implemented our main logic.\n",
    "Explore it "
   ]
  },
  {
   "cell_type": "code",
   "execution_count": null,
   "id": "be0362f7-abc1-4043-9ba8-a3648696e8e9",
   "metadata": {},
   "outputs": [],
   "source": [
    "# User input and response handling\n",
    "from chat_solution.rag import LearningAssistant\n",
    "\n",
    "rag = LearningAssistant()  \n",
    "query = \"what is an hallucination?\"\n",
    "response = rag.query(query)\n",
    "print(response)"
   ]
  },
  {
   "cell_type": "code",
   "execution_count": null,
   "id": "bc7391ff",
   "metadata": {},
   "outputs": [],
   "source": [
    "\n",
    "# now change teh instruc\n",
    "%load_ext autoreload\n",
    "%autoreload 2"
   ]
  },
  {
   "cell_type": "code",
   "execution_count": null,
   "id": "a11c4988",
   "metadata": {},
   "outputs": [],
   "source": [
    "\n",
    "rag = LearningAssistant()\n",
    "rag.instructions = \"\"\" You are a unhelpful  joker assistant. Your goal go give funny answers to the user questions.\"\"\"\n",
    "query = \"what is an hallucination?\"\n",
    "response = rag.query(query)\n",
    "print(response)"
   ]
  },
  {
   "cell_type": "markdown",
   "id": "62dcdcfe",
   "metadata": {},
   "source": [
    "## Task 1\n",
    "\n",
    "Tune the examples and the prompot to see if you get a better chat experience. Consider using Chain-of-Tought."
   ]
  },
  {
   "cell_type": "code",
   "execution_count": null,
   "id": "8a37bf49",
   "metadata": {},
   "outputs": [],
   "source": [
    "\n",
    "rag = LearningAssistant()\n",
    "# add your code here\n",
    "response = rag.query(query)\n",
    "print(response)"
   ]
  },
  {
   "cell_type": "markdown",
   "id": "7865ae7c",
   "metadata": {},
   "source": [
    "\n",
    "## Running our quiz web application\n",
    "\n",
    "Now that we explored out assistant in the notebook, lets move to use it in our streamlit application.\n",
    "The code bellow starts a new streamlit (and stops if there is already another instance running).\n"
   ]
  },
  {
   "cell_type": "code",
   "execution_count": null,
   "id": "7a510adb",
   "metadata": {},
   "outputs": [],
   "source": [
    "import os\n",
    "\n",
    "os.system(\"pkill -f streamlit \")\n",
    "os.system(\"streamlit run ../chat_solution/start_streamlit.py &\")"
   ]
  },
  {
   "cell_type": "markdown",
   "id": "4ba7bc4d",
   "metadata": {},
   "source": [
    "# Task 2\n",
    "\n",
    "Play with the chat and try suggesting some topcis for the chat and see if you get results as you expect."
   ]
  },
  {
   "cell_type": "markdown",
   "id": "6cf2ddc4",
   "metadata": {},
   "source": [
    "\n",
    "## Evaluating RAG Applications\n",
    "\n",
    "As you probably got by now, llm can go wrong in so many different ways. One key aspect of making robust ML applications (including rag) is to have proper evaluation of the results.\n"
   ]
  },
  {
   "cell_type": "code",
   "execution_count": null,
   "id": "6c1a3fc0-7d01-4dc7-b340-f9b3c6b63fc4",
   "metadata": {},
   "outputs": [],
   "source": [
    "from ragas import EvaluationDataset\n",
    "\n",
    "data = [\n",
    "     {'user_input': 'role models in the area of artificial intelligence?',\n",
    "      'reference': \"\"\"Question: Who is a prominent figure known for their influential work on AI ethics?\n",
    "1. Chip Huyen\n",
    "2. Timnit Gebru (CORRECT)\n",
    "3. Andrej Karpathy\n",
    "\"\"\"\n",
    "     },\n",
    "     {'user_input': \"famous books on llms\",\n",
    "      'reference': \"\"\"Question: Which of the following is a famous book that discusses Large Language Models (LLMs)?\n",
    "1. The Hitchhiker's Guide to the Galaxy\" by Douglas Adams\n",
    "2. Deep Learning\" by Ian Goodfellow, Yoshua Bengio, and Aaron Courville (CORRECT)\n",
    "3. 1984\" by George Orwell\n",
    "4. To Kill a Mockingbird\" by Harper Lee\n",
    "\"\"\"\n",
    "      }\n",
    "]\n",
    "\n",
    "# augment data with the llm response\n",
    "\n",
    "for i, d in enumerate(data):\n",
    "    rag = LearningAssistant()\n",
    "    response = rag.query(d['user_input'])\n",
    "    data[i]['response'] = response\n",
    "\n",
    "\n",
    "dataset = EvaluationDataset.from_list(data)\n",
    "\n",
    "\n",
    "data"
   ]
  },
  {
   "cell_type": "code",
   "execution_count": null,
   "id": "02580cbf",
   "metadata": {},
   "outputs": [],
   "source": [
    "from ragas.metrics import FactualCorrectness\n",
    "from ragas import evaluate\n",
    "from langchain_mistralai import ChatMistralAI\n",
    "\n",
    "llm = ChatMistralAI(model=\"mistral-large-latest\", temperature=0)\n",
    "factual_correctness = FactualCorrectness()\n",
    "eval_results = evaluate(\n",
    "        dataset=dataset,\n",
    "        metrics=[\n",
    "                factual_correctness\n",
    "        ],\n",
    "        llm=llm,\n",
    "       raise_exceptions=False \n",
    ")\n",
    "\n",
    "evaluation_result_df = eval_results.to_pandas()\n",
    "#compute average score\n",
    "evaluation_result_df['factual_correctness'].mean()\n"
   ]
  },
  {
   "cell_type": "code",
   "execution_count": null,
   "id": "848262de",
   "metadata": {},
   "outputs": [],
   "source": [
    "\n",
    "\n",
    "\n",
    "print(\"Factual correctness score: \", evaluation_result_df['factual_correctness'].mean())\n",
    "evaluation_result_df.iloc[:5]"
   ]
  },
  {
   "cell_type": "markdown",
   "id": "a02ffe5b",
   "metadata": {},
   "source": [
    "## Task 3 Add  a new evaluation metric \n",
    "\n",
    "Look at [ragas documentation](https://docs.ragas.io/en/stable/) for more metrics."
   ]
  },
  {
   "cell_type": "code",
   "execution_count": null,
   "id": "5597c6cf",
   "metadata": {},
   "outputs": [],
   "source": [
    "from ragas.metrics import FactualCorrectness\n",
    "from ragas import evaluate\n",
    "factual_correctness = FactualCorrectness()\n",
    "# add a second metric here\n",
    "\n",
    "eval_results = evaluate(\n",
    "        dataset=dataset,\n",
    "        metrics=[\n",
    "                factual_correctness,\n",
    "        ],\n",
    "        llm=llm,\n",
    "       raise_exceptions=False \n",
    ")\n",
    "\n",
    "evaluation_result_df = eval_results.to_pandas()\n",
    "#compute average score\n",
    "evaluation_result_df['factual_correctness'].mean()\n",
    "# add your code here\n",
    "\n",
    "print(\"Factual correctness score: \", evaluation_result_df['factual_correctness'].mean())\n",
    "evaluation_result_df.iloc[:5]"
   ]
  },
  {
   "cell_type": "markdown",
   "id": "ac30c1b6",
   "metadata": {},
   "source": [
    "## Task 4\n",
    "\n",
    "Add your own rag class to the chat_solution folder and test it out in the streamlit app.\n",
    "\n",
    "You will need to:\n",
    "\n",
    "1. Create a new myrag.py file in chat_solution folder\n",
    "2. Create a class similar to the one in rag.py (including importing the llm and the vector database)\n",
    "3. Tune the prompt as you prefer\n",
    "4. Import it in start_streamlit.py\n",
    "5. Try it in the url\n",
    "6. Extra: if you have the time, play with the evaluation score with the new rag class\n"
   ]
  },
  {
   "cell_type": "markdown",
   "id": "f8a89446",
   "metadata": {},
   "source": [
    "# The end!\n",
    "\n",
    "If you reached this phase congrats! You've made to the end. If you still have time you can check our challenge notebook with agents :)"
   ]
  }
 ],
 "metadata": {
  "kernelspec": {
   "display_name": ".venv",
   "language": "python",
   "name": "python3"
  },
  "language_info": {
   "codemirror_mode": {
    "name": "ipython",
    "version": 3
   },
   "file_extension": ".py",
   "mimetype": "text/x-python",
   "name": "python",
   "nbconvert_exporter": "python",
   "pygments_lexer": "ipython3",
   "version": "3.12.7"
  }
 },
 "nbformat": 4,
 "nbformat_minor": 5
}
